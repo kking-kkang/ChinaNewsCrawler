{
 "cells": [
  {
   "cell_type": "code",
   "id": "initial_id",
   "metadata": {
    "collapsed": true,
    "ExecuteTime": {
     "end_time": "2025-02-13T11:18:28.818748Z",
     "start_time": "2025-02-13T11:18:28.779824Z"
    }
   },
   "source": [
    "import pandas as pd\n",
    "import json\n",
    "# JSON 파일 경로\n",
    "file_path = \"../sentiment_analysis.json\"\n",
    "\n",
    "# JSON 파일 로드\n",
    "with open(file_path, 'r', encoding='utf-8') as file:\n",
    "    data = json.load(file)\n",
    "\n",
    "# JSON 데이터를 DataFrame으로 변환\n",
    "df = pd.DataFrame(data)"
   ],
   "outputs": [],
   "execution_count": 7
  },
  {
   "metadata": {
    "ExecuteTime": {
     "end_time": "2025-02-13T11:18:20.824331Z",
     "start_time": "2025-02-13T11:18:20.795410Z"
    }
   },
   "cell_type": "code",
   "source": [
    "#제이슨 파일 날짜 정렬\n",
    "\n",
    "import json\n",
    "# JSON 파일 로드\n",
    "with open(\"../duplicates.json\", \"r\", encoding=\"utf-8\") as file:\n",
    "    data = json.load(file)\n",
    "\n",
    "sorted_data = sorted(data, key=lambda x: x[\"date\"] if x[\"date\"] is not None else \"9999-12-31\")\n",
    "\n",
    "# 정렬된 JSON을 새 파일로 저장 (선택 사항)\n",
    "with open(\"../duplicates.json\", \"w\", encoding=\"utf-8\") as file:\n",
    "    json.dump(sorted_data, file, indent=4, ensure_ascii=False)"
   ],
   "id": "2ab20d42b0058773",
   "outputs": [],
   "execution_count": 6
  },
  {
   "metadata": {
    "ExecuteTime": {
     "end_time": "2025-02-12T07:54:57.369110Z",
     "start_time": "2025-02-12T07:54:57.357114Z"
    }
   },
   "cell_type": "code",
   "source": [
    "#제이슨 파일 카운트\n",
    "\n",
    "import json\n",
    "\n",
    "# JSON 파일 읽기\n",
    "with open(\"../raw_data/raw.huanqiu.json\", \"r\", encoding=\"utf-8\") as f:\n",
    "    data = json.load(f)\n",
    "\n",
    "# 리스트의 길이로 개수 확인\n",
    "print(f\"📌 JSON 항목 개수: {len(data)}\")\n"
   ],
   "id": "1e395599cae6f75",
   "outputs": [
    {
     "name": "stdout",
     "output_type": "stream",
     "text": [
      "📌 JSON 항목 개수: 279\n"
     ]
    }
   ],
   "execution_count": 11
  },
  {
   "metadata": {
    "ExecuteTime": {
     "end_time": "2025-02-13T11:18:30.981435Z",
     "start_time": "2025-02-13T11:18:30.964794Z"
    }
   },
   "cell_type": "code",
   "source": "df_1 = df[df['input_text'].str.contains('下一页', na=False)]",
   "id": "82f5998dae9e08d9",
   "outputs": [],
   "execution_count": 8
  },
  {
   "metadata": {
    "ExecuteTime": {
     "end_time": "2025-02-13T11:18:32.596207Z",
     "start_time": "2025-02-13T11:18:32.569278Z"
    }
   },
   "cell_type": "code",
   "source": "df_1",
   "id": "c7b49c1c3035d1a8",
   "outputs": [
    {
     "data": {
      "text/plain": [
       "                       title  \\\n",
       "24        奥巴马连任后美国战略东移步伐不会停止   \n",
       "25              2013年世界会是啥样?   \n",
       "132     韩美一意孤行部署萨德地区军备竞赛或将开启   \n",
       "160         韩日正式签署《军事情报保护协定》   \n",
       "450       相关各方接触频繁六方会谈或现重启曙光   \n",
       "455    美部署萨德被指决心很强中方批美亚洲指手画脚   \n",
       "456                  韩日关系谁做主   \n",
       "464        军报：“萨德”入韩破坏地区战略平衡   \n",
       "469  韩日正式签署《军事情报保护协定》 - 韩国频道   \n",
       "\n",
       "                                                  link        date  \\\n",
       "24   http://www.xinhuanet.com/world/2012-12/31/c_12...  2012-12-31   \n",
       "25   http://www.xinhuanet.com/world/2013-01/04/c_12...  2013-01-04   \n",
       "132  http://www.xinhuanet.com/world/2016-07/09/c_12...  2016-07-09   \n",
       "160  http://www.xinhuanet.com/world/2016-11/24/c_12...  2016-11-24   \n",
       "450  http://news.xinhuanet.com/world/2013-06/22/c_1...  2013-06-22   \n",
       "455  http://news.xinhuanet.com/mil/2015-04/10/c_127...  2015-04-10   \n",
       "456  http://www.xinhuanet.com/world/2015-07/04/c_12...  2015-07-04   \n",
       "464  http://news.xinhuanet.com/mil/2016-08/05/c_129...  2016-08-05   \n",
       "469  http://korea.xinhuanet.com/2016-11/24/c_129375...  2016-11-24   \n",
       "\n",
       "                                               content source quarter  \\\n",
       "24   韩国媒体6月16日报道，美国已向韩方提出，要继续保留美韩两军联合司令部。而在布什政府时期，美...    新华网  2012Q4   \n",
       "25   2012年已过去，我们庆幸“世界末日”没有到来，在悄无声息中，地球载着我们驶入新的一年。\\n...    新华网  2013Q1   \n",
       "132  7月8日，韩国市民团体在位于首尔的国防部门前，高举标语反对在韩部署萨德系统。\\n明年年底前，...    新华网  2016Q3   \n",
       "160  在野党和民众纷纷抗议，或引发强烈政局风暴\\n11月23日，在韩国首尔，日本驻韩大使长岭安政（...    新华网  2016Q4   \n",
       "450  自5月以来，朝鲜半岛局势出现缓和迹象。朝鲜屡屡表现出对话意愿，六方会谈其他国家之间也开始频频...    新华网  2013Q2   \n",
       "455  资料图：美国意在韩国部署“萨德”防空导弹系统\\n原标题：美部署萨德被指决心很强 中方批美在亚...    新华网  2015Q2   \n",
       "456  6月22日是韩日邦交正常化50周年纪念日，韩国总统朴槿惠和日本首相安倍晋三分别出席了对方使馆...    新华网  2015Q3   \n",
       "464  在韩国部署“萨德”，美国企图“一箭多雕”，既借此促进美韩日三边军事合作，又可近距离监控中俄，...    新华网  2016Q3   \n",
       "469  在野党和民众纷纷抗议，或引发强烈政局风暴\\n11月23日，在韩国首尔，日本驻韩大使长岭安政（...    新华网  2016Q4   \n",
       "\n",
       "                                            input_text sentiment_score  \n",
       "24   韩国媒体6月16日报道美国已向韩方提出要继续保留美韩两军联合司令部。而在布什政府时期美国曾与...               0  \n",
       "25   2012年已过去我们庆幸世界末日没有到来在悄无声息中地球载着我们驶入新的一年。 一元复始万象...              -2  \n",
       "132  7月8日韩国市民团体在位于首尔的国防部门前高举标语反对在韩部署萨德系统。 明年年底前美韩将在...              -2  \n",
       "160  在野党和民众纷纷抗议或引发强烈政局风暴 11月23日在韩国首尔日本驻韩大使长岭安政中前往协定...                  \n",
       "450  自5月以来朝鲜半岛局势出现缓和迹象。朝鲜屡屡表现出对话意愿六方会谈其他国家之间也开始频频接触...               2  \n",
       "455  资料图美国意在韩国部署萨德防空导弹系统 原标题美部署萨德被指决心很强 中方批美在亚洲指手画脚...              -2  \n",
       "456  6月22日是韩日邦交正常化50周年纪念日韩国总统朴槿惠和日本首相安倍晋三分别出席了对方使馆举...              -2  \n",
       "464  在韩国部署萨德美国企图一箭多雕既借此促进美韩日三边军事合作又可近距离监控中俄同时还在中韩之间...              -3  \n",
       "469  在野党和民众纷纷抗议或引发强烈政局风暴 11月23日在韩国首尔日本驻韩大使长岭安政中前往协定...              -3  "
      ],
      "text/html": [
       "<div>\n",
       "<style scoped>\n",
       "    .dataframe tbody tr th:only-of-type {\n",
       "        vertical-align: middle;\n",
       "    }\n",
       "\n",
       "    .dataframe tbody tr th {\n",
       "        vertical-align: top;\n",
       "    }\n",
       "\n",
       "    .dataframe thead th {\n",
       "        text-align: right;\n",
       "    }\n",
       "</style>\n",
       "<table border=\"1\" class=\"dataframe\">\n",
       "  <thead>\n",
       "    <tr style=\"text-align: right;\">\n",
       "      <th></th>\n",
       "      <th>title</th>\n",
       "      <th>link</th>\n",
       "      <th>date</th>\n",
       "      <th>content</th>\n",
       "      <th>source</th>\n",
       "      <th>quarter</th>\n",
       "      <th>input_text</th>\n",
       "      <th>sentiment_score</th>\n",
       "    </tr>\n",
       "  </thead>\n",
       "  <tbody>\n",
       "    <tr>\n",
       "      <th>24</th>\n",
       "      <td>奥巴马连任后美国战略东移步伐不会停止</td>\n",
       "      <td>http://www.xinhuanet.com/world/2012-12/31/c_12...</td>\n",
       "      <td>2012-12-31</td>\n",
       "      <td>韩国媒体6月16日报道，美国已向韩方提出，要继续保留美韩两军联合司令部。而在布什政府时期，美...</td>\n",
       "      <td>新华网</td>\n",
       "      <td>2012Q4</td>\n",
       "      <td>韩国媒体6月16日报道美国已向韩方提出要继续保留美韩两军联合司令部。而在布什政府时期美国曾与...</td>\n",
       "      <td>0</td>\n",
       "    </tr>\n",
       "    <tr>\n",
       "      <th>25</th>\n",
       "      <td>2013年世界会是啥样?</td>\n",
       "      <td>http://www.xinhuanet.com/world/2013-01/04/c_12...</td>\n",
       "      <td>2013-01-04</td>\n",
       "      <td>2012年已过去，我们庆幸“世界末日”没有到来，在悄无声息中，地球载着我们驶入新的一年。\\n...</td>\n",
       "      <td>新华网</td>\n",
       "      <td>2013Q1</td>\n",
       "      <td>2012年已过去我们庆幸世界末日没有到来在悄无声息中地球载着我们驶入新的一年。 一元复始万象...</td>\n",
       "      <td>-2</td>\n",
       "    </tr>\n",
       "    <tr>\n",
       "      <th>132</th>\n",
       "      <td>韩美一意孤行部署萨德地区军备竞赛或将开启</td>\n",
       "      <td>http://www.xinhuanet.com/world/2016-07/09/c_12...</td>\n",
       "      <td>2016-07-09</td>\n",
       "      <td>7月8日，韩国市民团体在位于首尔的国防部门前，高举标语反对在韩部署萨德系统。\\n明年年底前，...</td>\n",
       "      <td>新华网</td>\n",
       "      <td>2016Q3</td>\n",
       "      <td>7月8日韩国市民团体在位于首尔的国防部门前高举标语反对在韩部署萨德系统。 明年年底前美韩将在...</td>\n",
       "      <td>-2</td>\n",
       "    </tr>\n",
       "    <tr>\n",
       "      <th>160</th>\n",
       "      <td>韩日正式签署《军事情报保护协定》</td>\n",
       "      <td>http://www.xinhuanet.com/world/2016-11/24/c_12...</td>\n",
       "      <td>2016-11-24</td>\n",
       "      <td>在野党和民众纷纷抗议，或引发强烈政局风暴\\n11月23日，在韩国首尔，日本驻韩大使长岭安政（...</td>\n",
       "      <td>新华网</td>\n",
       "      <td>2016Q4</td>\n",
       "      <td>在野党和民众纷纷抗议或引发强烈政局风暴 11月23日在韩国首尔日本驻韩大使长岭安政中前往协定...</td>\n",
       "      <td></td>\n",
       "    </tr>\n",
       "    <tr>\n",
       "      <th>450</th>\n",
       "      <td>相关各方接触频繁六方会谈或现重启曙光</td>\n",
       "      <td>http://news.xinhuanet.com/world/2013-06/22/c_1...</td>\n",
       "      <td>2013-06-22</td>\n",
       "      <td>自5月以来，朝鲜半岛局势出现缓和迹象。朝鲜屡屡表现出对话意愿，六方会谈其他国家之间也开始频频...</td>\n",
       "      <td>新华网</td>\n",
       "      <td>2013Q2</td>\n",
       "      <td>自5月以来朝鲜半岛局势出现缓和迹象。朝鲜屡屡表现出对话意愿六方会谈其他国家之间也开始频频接触...</td>\n",
       "      <td>2</td>\n",
       "    </tr>\n",
       "    <tr>\n",
       "      <th>455</th>\n",
       "      <td>美部署萨德被指决心很强中方批美亚洲指手画脚</td>\n",
       "      <td>http://news.xinhuanet.com/mil/2015-04/10/c_127...</td>\n",
       "      <td>2015-04-10</td>\n",
       "      <td>资料图：美国意在韩国部署“萨德”防空导弹系统\\n原标题：美部署萨德被指决心很强 中方批美在亚...</td>\n",
       "      <td>新华网</td>\n",
       "      <td>2015Q2</td>\n",
       "      <td>资料图美国意在韩国部署萨德防空导弹系统 原标题美部署萨德被指决心很强 中方批美在亚洲指手画脚...</td>\n",
       "      <td>-2</td>\n",
       "    </tr>\n",
       "    <tr>\n",
       "      <th>456</th>\n",
       "      <td>韩日关系谁做主</td>\n",
       "      <td>http://www.xinhuanet.com/world/2015-07/04/c_12...</td>\n",
       "      <td>2015-07-04</td>\n",
       "      <td>6月22日是韩日邦交正常化50周年纪念日，韩国总统朴槿惠和日本首相安倍晋三分别出席了对方使馆...</td>\n",
       "      <td>新华网</td>\n",
       "      <td>2015Q3</td>\n",
       "      <td>6月22日是韩日邦交正常化50周年纪念日韩国总统朴槿惠和日本首相安倍晋三分别出席了对方使馆举...</td>\n",
       "      <td>-2</td>\n",
       "    </tr>\n",
       "    <tr>\n",
       "      <th>464</th>\n",
       "      <td>军报：“萨德”入韩破坏地区战略平衡</td>\n",
       "      <td>http://news.xinhuanet.com/mil/2016-08/05/c_129...</td>\n",
       "      <td>2016-08-05</td>\n",
       "      <td>在韩国部署“萨德”，美国企图“一箭多雕”，既借此促进美韩日三边军事合作，又可近距离监控中俄，...</td>\n",
       "      <td>新华网</td>\n",
       "      <td>2016Q3</td>\n",
       "      <td>在韩国部署萨德美国企图一箭多雕既借此促进美韩日三边军事合作又可近距离监控中俄同时还在中韩之间...</td>\n",
       "      <td>-3</td>\n",
       "    </tr>\n",
       "    <tr>\n",
       "      <th>469</th>\n",
       "      <td>韩日正式签署《军事情报保护协定》 - 韩国频道</td>\n",
       "      <td>http://korea.xinhuanet.com/2016-11/24/c_129375...</td>\n",
       "      <td>2016-11-24</td>\n",
       "      <td>在野党和民众纷纷抗议，或引发强烈政局风暴\\n11月23日，在韩国首尔，日本驻韩大使长岭安政（...</td>\n",
       "      <td>新华网</td>\n",
       "      <td>2016Q4</td>\n",
       "      <td>在野党和民众纷纷抗议或引发强烈政局风暴 11月23日在韩国首尔日本驻韩大使长岭安政中前往协定...</td>\n",
       "      <td>-3</td>\n",
       "    </tr>\n",
       "  </tbody>\n",
       "</table>\n",
       "</div>"
      ]
     },
     "execution_count": 9,
     "metadata": {},
     "output_type": "execute_result"
    }
   ],
   "execution_count": 9
  },
  {
   "metadata": {
    "ExecuteTime": {
     "end_time": "2025-02-10T07:58:51.411669300Z",
     "start_time": "2025-02-10T07:54:28.021588Z"
    }
   },
   "cell_type": "code",
   "source": [
    "# 날짜 컬럼을 datetime 형식으로 변환\n",
    "df[\"date\"] = pd.to_datetime(df[\"date\"])\n",
    "\n",
    "# 연도와 분기를 추출하여 새로운 컬럼 추가\n",
    "df[\"year_quarter\"] = df[\"date\"].dt.to_period(\"Q\")\n",
    "\n",
    "df[\"year_month\"] = df[\"date\"].dt.to_period(\"M\")\n",
    "# 분기별 데이터 개수 확인\n",
    "quarterly_counts = df.groupby(\"year_quarter\").size().reset_index(name=\"count\")\n",
    "\n",
    "monthly_counts = df.groupby(\"year_month\").size().reset_index(name=\"count\")\n",
    "\n",
    "\n",
    "# 결과 출력\n",
    "print(monthly_counts)"
   ],
   "id": "62f1c86cb6e078c5",
   "outputs": [
    {
     "name": "stdout",
     "output_type": "stream",
     "text": [
      "    year_month  count\n",
      "0      2010-10      1\n",
      "1      2010-11      1\n",
      "2      2010-12      1\n",
      "3      2011-02      1\n",
      "4      2011-10      1\n",
      "..         ...    ...\n",
      "115    2024-10      1\n",
      "116    2024-11      4\n",
      "117    2024-12      6\n",
      "118    2025-01      4\n",
      "119    2025-02      1\n",
      "\n",
      "[120 rows x 2 columns]\n"
     ]
    }
   ],
   "execution_count": 40
  },
  {
   "metadata": {
    "ExecuteTime": {
     "end_time": "2025-02-10T07:47:37.044650Z",
     "start_time": "2025-02-10T07:47:37.023496Z"
    }
   },
   "cell_type": "code",
   "source": "quarterly_counts.to_csv(\"./quarterly_counts.csv\",index=False, encoding='utf-8')",
   "id": "2ba4c0fab476018a",
   "outputs": [],
   "execution_count": 38
  },
  {
   "metadata": {
    "ExecuteTime": {
     "end_time": "2025-02-10T07:55:00.625276Z",
     "start_time": "2025-02-10T07:55:00.614307Z"
    }
   },
   "cell_type": "code",
   "source": "monthly_counts.to_csv(\"./monthly_counts.csv\",index=False, encoding='utf-8')",
   "id": "b750afa44cae623f",
   "outputs": [],
   "execution_count": 42
  },
  {
   "metadata": {
    "ExecuteTime": {
     "end_time": "2025-02-10T07:55:18.887592Z",
     "start_time": "2025-02-10T07:55:18.877588Z"
    }
   },
   "cell_type": "code",
   "source": [
    "import os\n",
    "print(os.path.exists(\"./monthly_counts.csv\"))"
   ],
   "id": "d5a3622542019ce1",
   "outputs": [
    {
     "name": "stdout",
     "output_type": "stream",
     "text": [
      "True\n"
     ]
    }
   ],
   "execution_count": 43
  },
  {
   "metadata": {
    "ExecuteTime": {
     "end_time": "2025-02-06T12:25:37.816776Z",
     "start_time": "2025-02-06T12:25:37.806176Z"
    }
   },
   "cell_type": "code",
   "source": "pdf_filtered_df = df[df['link'].str.endswith('.pdf', na=False)]",
   "id": "4139594895170d2b",
   "outputs": [],
   "execution_count": 17
  },
  {
   "metadata": {
    "ExecuteTime": {
     "end_time": "2025-02-07T03:13:58.438760Z",
     "start_time": "2025-02-07T03:13:58.429757Z"
    }
   },
   "cell_type": "code",
   "outputs": [],
   "execution_count": 38,
   "source": [
    "# 본문 없는 데이터와 '三边', '三国', '三方' 중 하나라도 포함되지 않은 데이터 필터링\n",
    "df = df[df['content'].notnull() & df['content'].str.contains('三边|三国|三方|三角|同盟', na=False)]\n",
    "df = df[df['content'].str.contains('环球', na=False)]"
   ],
   "id": "82692fc128fffc16"
  },
  {
   "metadata": {
    "ExecuteTime": {
     "end_time": "2025-02-07T04:08:48.647958Z",
     "start_time": "2025-02-07T04:08:48.631329Z"
    }
   },
   "cell_type": "code",
   "source": "df = df[df['get_source'].notnull() & df['get_source'].str.contains('新华', na=False)]",
   "id": "6bfad9844e4cbf91",
   "outputs": [],
   "execution_count": 47
  },
  {
   "metadata": {
    "ExecuteTime": {
     "end_time": "2025-02-07T04:14:56.770248Z",
     "start_time": "2025-02-07T04:14:56.757607Z"
    }
   },
   "cell_type": "code",
   "source": "output_path = \"../output/filtered_xinhuanet_by_source.json\"",
   "id": "fdef3534a2f6444a",
   "outputs": [],
   "execution_count": 54
  },
  {
   "metadata": {
    "ExecuteTime": {
     "end_time": "2025-02-07T04:13:44.594238Z",
     "start_time": "2025-02-07T04:13:44.579929Z"
    }
   },
   "cell_type": "code",
   "source": "pdf_filtered_df.to_csv(output_path,index=False, encoding='utf-8-sig')",
   "id": "eae86daf988d844c",
   "outputs": [],
   "execution_count": 53
  },
  {
   "metadata": {
    "ExecuteTime": {
     "end_time": "2025-02-07T04:15:48.351853Z",
     "start_time": "2025-02-07T04:15:48.330374Z"
    }
   },
   "cell_type": "code",
   "source": "df.to_json(output_path, orient='records', force_ascii=False, indent=4)",
   "id": "158a556513a5c6ba",
   "outputs": [],
   "execution_count": 55
  },
  {
   "metadata": {
    "ExecuteTime": {
     "end_time": "2025-02-07T04:26:09.596771Z",
     "start_time": "2025-02-07T04:26:09.587795Z"
    }
   },
   "cell_type": "code",
   "source": [
    "contains_target_title = df['title'].str.contains(\"贸易摩擦升级日韩关系何去何从\", na=False).any()\n",
    "print(f\"제목에 키워드가 포함된 기사 존재 여부: {contains_target_title}\")"
   ],
   "id": "9dfd8e78573ac205",
   "outputs": [
    {
     "name": "stdout",
     "output_type": "stream",
     "text": [
      "제목에 키워드가 포함된 기사 존재 여부: True\n"
     ]
    }
   ],
   "execution_count": 11
  },
  {
   "metadata": {
    "ExecuteTime": {
     "end_time": "2025-02-12T10:53:18.758784Z",
     "start_time": "2025-02-12T10:53:18.730829Z"
    }
   },
   "cell_type": "code",
   "source": [
    "#csv -> json\n",
    "\n",
    "import csv\n",
    "import json\n",
    "\n",
    "csv_1 = \"../sentiment_analysis_2.csv\"\n",
    "json_1 = \"../sentiment_analysis_2.json\"\n",
    "\n",
    "def csv_to_json(csv_filepath, json_filepath):\n",
    "    with open(csv_filepath, mode='r', encoding='utf-8') as csv_file:\n",
    "        csv_reader = csv.DictReader(csv_file)\n",
    "        data = [row for row in csv_reader]\n",
    "\n",
    "    with open(json_filepath, mode='w', encoding='utf-8') as json_file:\n",
    "        json.dump(data, json_file, indent=4, ensure_ascii=False)\n",
    "\n",
    "# 사용 예시\n",
    "csv_to_json(csv_1, json_1)\n"
   ],
   "id": "7c8be31eacb8f52",
   "outputs": [],
   "execution_count": 3
  },
  {
   "metadata": {},
   "cell_type": "code",
   "outputs": [],
   "execution_count": null,
   "source": "",
   "id": "19e30ba20966793e"
  }
 ],
 "metadata": {
  "kernelspec": {
   "display_name": "Python 3",
   "language": "python",
   "name": "python3"
  },
  "language_info": {
   "codemirror_mode": {
    "name": "ipython",
    "version": 2
   },
   "file_extension": ".py",
   "mimetype": "text/x-python",
   "name": "python",
   "nbconvert_exporter": "python",
   "pygments_lexer": "ipython2",
   "version": "2.7.6"
  }
 },
 "nbformat": 4,
 "nbformat_minor": 5
}
