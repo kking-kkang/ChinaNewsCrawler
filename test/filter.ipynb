{
 "cells": [
  {
   "cell_type": "code",
   "id": "initial_id",
   "metadata": {
    "collapsed": true,
    "ExecuteTime": {
     "end_time": "2025-02-07T04:24:14.770621Z",
     "start_time": "2025-02-07T04:24:14.757656Z"
    }
   },
   "source": [
    "import pandas as pd\n",
    "import json\n",
    "# JSON 파일 경로\n",
    "file_path = \"../output/raw.xinhuanet.json\"\n",
    "\n",
    "# JSON 파일 로드\n",
    "with open(file_path, 'r', encoding='utf-8') as file:\n",
    "    data = json.load(file)\n",
    "\n",
    "# JSON 데이터를 DataFrame으로 변환\n",
    "df = pd.DataFrame(data)"
   ],
   "outputs": [],
   "execution_count": 3
  },
  {
   "metadata": {
    "ExecuteTime": {
     "end_time": "2025-02-07T04:08:50.849302Z",
     "start_time": "2025-02-07T04:08:50.823346Z"
    }
   },
   "cell_type": "code",
   "source": "df",
   "id": "2ab20d42b0058773",
   "outputs": [
    {
     "data": {
      "text/plain": [
       "                            title  \\\n",
       "2              朝鲜谴责美韩军事挑衅导致地区局势恶化   \n",
       "3             朝鲜严厉谴责美日韩“自由之刃”联合军演   \n",
       "4               外交部驳美日韩“印太对话”联合声明   \n",
       "8               韩德洙与拜登就韩美同盟等事宜通电话   \n",
       "11            朝鲜严厉谴责美日韩“自由之刃”联合军演   \n",
       "..                            ...   \n",
       "192         周观天下：美新防长访日韩兜售“亚太再平衡”   \n",
       "195  美日韩领导人同意加强合作推动联合国制裁朝鲜 - 韩国频道   \n",
       "197                 韩日防长会谈日本又算计韩国   \n",
       "198            奥巴马连任后美国战略东移步伐不会停止   \n",
       "199         美防长：中美不是“零和关系” 不必成为对手   \n",
       "\n",
       "                                                  link          date  \\\n",
       "2    http://www3.xinhuanet.com/world/20250126/9777d...  Jan 26, 2025   \n",
       "3    http://www.xinhuanet.com/20240630/02de01d1e846...  Jun 30, 2024   \n",
       "4    http://www.xinhuanet.com/20240108/21bcbc6b9edd...   Jan 8, 2024   \n",
       "8    http://www3.xinhuanet.com/world/20241215/fe232...  Dec 15, 2024   \n",
       "11   https://app.xinhuanet.com/news/article.html?ar...  Jun 30, 2024   \n",
       "..                                                 ...           ...   \n",
       "192  http://www.xinhuanet.com/world/2015-04/12/c_11...  Apr 12, 2015   \n",
       "195  http://korea.xinhuanet.com/2016-02/09/c_135086...   Feb 9, 2016   \n",
       "197  http://www.xinhuanet.com/world/2015-10/24/c_12...  Oct 24, 2015   \n",
       "198  http://www.xinhuanet.com/world/2012-12/31/c_12...  Dec 31, 2012   \n",
       "199  http://www.xinhuanet.com/world/2015-04/08/c_12...   Apr 8, 2015   \n",
       "\n",
       "                                               snippet source  \\\n",
       "2    谈话说，美韩近期针对朝鲜进行联合空中训练、联合大火力战演习，年初还在战略轰炸机参与下启动美日...    新华网   \n",
       "3    声明指出，美日韩“自由之刃”联合军演的危险性在于其是三国军事同盟的“组织化、体系化和实物化”...    新华网   \n",
       "4    毛宁说，中方注意到美日韩举行有关对话并发表共同文件，对其中涉华不当内容表示严重关切。中方坚决...    新华网   \n",
       "8    拜登在通话中表示，美方将与韩方共同努力，发展和加强美韩同盟及美日韩合作。 此外，正在约旦南部...    新华网   \n",
       "11   声明指出，美日韩“自由之刃”联合军演的危险性在于其是三国军事同盟的“组织化、体系化和实物化”...    新华网   \n",
       "..                                                 ...    ...   \n",
       "192  针对韩国与日本就历史问题争议不断，卡特表示美国尊重该地区历史遗留问题，极力推动美日韩三国强化...    新华网   \n",
       "195  美日韩领导人同意加强合作推动联合国制裁朝鲜---美国总统奥巴马、韩国总统朴槿惠和日本首相安倍...    新华网   \n",
       "197  韩日防长会谈日本又算计韩国---韩日之间根深蒂固的互不信任，无疑将是美国一直苦心打造的美日韩...    新华网   \n",
       "198  美军太平洋司令部司令塞缪尔••洛克利尔表示，美国想通过联合军演，谋求“美日韩高级政策协调会”...    新华网   \n",
       "199  同时，美国将构建三边安全合作，比如，与日本、澳大利亚就东南亚海上安全加强合作，推动美日韩情报...    新华网   \n",
       "\n",
       "                                               content  \\\n",
       "2    新华社首尔1月26日电 据朝中社26日报道，朝鲜外务省对外政策室长当天发表谈话，谴责美韩近期...   \n",
       "3    新华社首尔6月30日电　据朝中社报道，针对韩国、美国和日本日前举行代号为“自由之刃”的三方多...   \n",
       "4    新华社北京1月8日电（记者 马卓言）针对美日韩“印太对话”联合声明中的涉华不当内容，外交部发...   \n",
       "8    新华社首尔12月15日电（记者陆睿）代行总统职权的韩国国务总理韩德洙15日与美国总统拜登通电...   \n",
       "11   新华社首尔6月30日电　据朝中社报道，针对韩国、美国和日本日前举行代号为“自由之刃”的三方多...   \n",
       "..                                                 ...   \n",
       "192  4月8日，在日本东京防卫省，日本防卫大臣中谷元（左）与美国国防部长阿什顿·卡特握手致意。当日...   \n",
       "195  新华社北京２月９日电 综合新华社驻外记者报道：美国总统奥巴马、韩国总统朴槿惠和日本首相安倍晋...   \n",
       "197  新华网北京10月24日电 日本防卫大臣中谷元近日访问韩国。这是自2011年以来韩日两国防长首...   \n",
       "198  韩国媒体6月16日报道，美国已向韩方提出，要继续保留美韩两军联合司令部。而在布什政府时期，美...   \n",
       "199  美防长：中美不是“零和关系”\\n开启上任后首次亚洲之行前，美国国防部长阿什顿·卡特６日以美国...   \n",
       "\n",
       "                                       get_source  \n",
       "2                                          来源：新华网  \n",
       "3                                          来源：新华网  \n",
       "4                                          来源：新华网  \n",
       "8                                          来源：新华网  \n",
       "11                                         新华网客户端  \n",
       "..                                            ...  \n",
       "192        2015年04月12日 09:18:59\\r\\n\\n来源：\\n\\r\\n新华网  \n",
       "195  2016年02月09日 14:20:32\\r\\n\\n\\r\\n来源：\\r\\n\\r\\n新华社  \n",
       "197  2015年10月24日 10:06:45\\r\\n\\n\\r\\n来源：\\r\\n\\r\\n新华网  \n",
       "198                                          新华国际  \n",
       "199        2015年04月08日 07:07:50\\r\\n\\n来源：\\n\\r\\n新华网  \n",
       "\n",
       "[98 rows x 7 columns]"
      ],
      "text/html": [
       "<div>\n",
       "<style scoped>\n",
       "    .dataframe tbody tr th:only-of-type {\n",
       "        vertical-align: middle;\n",
       "    }\n",
       "\n",
       "    .dataframe tbody tr th {\n",
       "        vertical-align: top;\n",
       "    }\n",
       "\n",
       "    .dataframe thead th {\n",
       "        text-align: right;\n",
       "    }\n",
       "</style>\n",
       "<table border=\"1\" class=\"dataframe\">\n",
       "  <thead>\n",
       "    <tr style=\"text-align: right;\">\n",
       "      <th></th>\n",
       "      <th>title</th>\n",
       "      <th>link</th>\n",
       "      <th>date</th>\n",
       "      <th>snippet</th>\n",
       "      <th>source</th>\n",
       "      <th>content</th>\n",
       "      <th>get_source</th>\n",
       "    </tr>\n",
       "  </thead>\n",
       "  <tbody>\n",
       "    <tr>\n",
       "      <th>2</th>\n",
       "      <td>朝鲜谴责美韩军事挑衅导致地区局势恶化</td>\n",
       "      <td>http://www3.xinhuanet.com/world/20250126/9777d...</td>\n",
       "      <td>Jan 26, 2025</td>\n",
       "      <td>谈话说，美韩近期针对朝鲜进行联合空中训练、联合大火力战演习，年初还在战略轰炸机参与下启动美日...</td>\n",
       "      <td>新华网</td>\n",
       "      <td>新华社首尔1月26日电 据朝中社26日报道，朝鲜外务省对外政策室长当天发表谈话，谴责美韩近期...</td>\n",
       "      <td>来源：新华网</td>\n",
       "    </tr>\n",
       "    <tr>\n",
       "      <th>3</th>\n",
       "      <td>朝鲜严厉谴责美日韩“自由之刃”联合军演</td>\n",
       "      <td>http://www.xinhuanet.com/20240630/02de01d1e846...</td>\n",
       "      <td>Jun 30, 2024</td>\n",
       "      <td>声明指出，美日韩“自由之刃”联合军演的危险性在于其是三国军事同盟的“组织化、体系化和实物化”...</td>\n",
       "      <td>新华网</td>\n",
       "      <td>新华社首尔6月30日电　据朝中社报道，针对韩国、美国和日本日前举行代号为“自由之刃”的三方多...</td>\n",
       "      <td>来源：新华网</td>\n",
       "    </tr>\n",
       "    <tr>\n",
       "      <th>4</th>\n",
       "      <td>外交部驳美日韩“印太对话”联合声明</td>\n",
       "      <td>http://www.xinhuanet.com/20240108/21bcbc6b9edd...</td>\n",
       "      <td>Jan 8, 2024</td>\n",
       "      <td>毛宁说，中方注意到美日韩举行有关对话并发表共同文件，对其中涉华不当内容表示严重关切。中方坚决...</td>\n",
       "      <td>新华网</td>\n",
       "      <td>新华社北京1月8日电（记者 马卓言）针对美日韩“印太对话”联合声明中的涉华不当内容，外交部发...</td>\n",
       "      <td>来源：新华网</td>\n",
       "    </tr>\n",
       "    <tr>\n",
       "      <th>8</th>\n",
       "      <td>韩德洙与拜登就韩美同盟等事宜通电话</td>\n",
       "      <td>http://www3.xinhuanet.com/world/20241215/fe232...</td>\n",
       "      <td>Dec 15, 2024</td>\n",
       "      <td>拜登在通话中表示，美方将与韩方共同努力，发展和加强美韩同盟及美日韩合作。 此外，正在约旦南部...</td>\n",
       "      <td>新华网</td>\n",
       "      <td>新华社首尔12月15日电（记者陆睿）代行总统职权的韩国国务总理韩德洙15日与美国总统拜登通电...</td>\n",
       "      <td>来源：新华网</td>\n",
       "    </tr>\n",
       "    <tr>\n",
       "      <th>11</th>\n",
       "      <td>朝鲜严厉谴责美日韩“自由之刃”联合军演</td>\n",
       "      <td>https://app.xinhuanet.com/news/article.html?ar...</td>\n",
       "      <td>Jun 30, 2024</td>\n",
       "      <td>声明指出，美日韩“自由之刃”联合军演的危险性在于其是三国军事同盟的“组织化、体系化和实物化”...</td>\n",
       "      <td>新华网</td>\n",
       "      <td>新华社首尔6月30日电　据朝中社报道，针对韩国、美国和日本日前举行代号为“自由之刃”的三方多...</td>\n",
       "      <td>新华网客户端</td>\n",
       "    </tr>\n",
       "    <tr>\n",
       "      <th>...</th>\n",
       "      <td>...</td>\n",
       "      <td>...</td>\n",
       "      <td>...</td>\n",
       "      <td>...</td>\n",
       "      <td>...</td>\n",
       "      <td>...</td>\n",
       "      <td>...</td>\n",
       "    </tr>\n",
       "    <tr>\n",
       "      <th>192</th>\n",
       "      <td>周观天下：美新防长访日韩兜售“亚太再平衡”</td>\n",
       "      <td>http://www.xinhuanet.com/world/2015-04/12/c_11...</td>\n",
       "      <td>Apr 12, 2015</td>\n",
       "      <td>针对韩国与日本就历史问题争议不断，卡特表示美国尊重该地区历史遗留问题，极力推动美日韩三国强化...</td>\n",
       "      <td>新华网</td>\n",
       "      <td>4月8日，在日本东京防卫省，日本防卫大臣中谷元（左）与美国国防部长阿什顿·卡特握手致意。当日...</td>\n",
       "      <td>2015年04月12日 09:18:59\\r\\n\\n来源：\\n\\r\\n新华网</td>\n",
       "    </tr>\n",
       "    <tr>\n",
       "      <th>195</th>\n",
       "      <td>美日韩领导人同意加强合作推动联合国制裁朝鲜 - 韩国频道</td>\n",
       "      <td>http://korea.xinhuanet.com/2016-02/09/c_135086...</td>\n",
       "      <td>Feb 9, 2016</td>\n",
       "      <td>美日韩领导人同意加强合作推动联合国制裁朝鲜---美国总统奥巴马、韩国总统朴槿惠和日本首相安倍...</td>\n",
       "      <td>新华网</td>\n",
       "      <td>新华社北京２月９日电 综合新华社驻外记者报道：美国总统奥巴马、韩国总统朴槿惠和日本首相安倍晋...</td>\n",
       "      <td>2016年02月09日 14:20:32\\r\\n\\n\\r\\n来源：\\r\\n\\r\\n新华社</td>\n",
       "    </tr>\n",
       "    <tr>\n",
       "      <th>197</th>\n",
       "      <td>韩日防长会谈日本又算计韩国</td>\n",
       "      <td>http://www.xinhuanet.com/world/2015-10/24/c_12...</td>\n",
       "      <td>Oct 24, 2015</td>\n",
       "      <td>韩日防长会谈日本又算计韩国---韩日之间根深蒂固的互不信任，无疑将是美国一直苦心打造的美日韩...</td>\n",
       "      <td>新华网</td>\n",
       "      <td>新华网北京10月24日电 日本防卫大臣中谷元近日访问韩国。这是自2011年以来韩日两国防长首...</td>\n",
       "      <td>2015年10月24日 10:06:45\\r\\n\\n\\r\\n来源：\\r\\n\\r\\n新华网</td>\n",
       "    </tr>\n",
       "    <tr>\n",
       "      <th>198</th>\n",
       "      <td>奥巴马连任后美国战略东移步伐不会停止</td>\n",
       "      <td>http://www.xinhuanet.com/world/2012-12/31/c_12...</td>\n",
       "      <td>Dec 31, 2012</td>\n",
       "      <td>美军太平洋司令部司令塞缪尔••洛克利尔表示，美国想通过联合军演，谋求“美日韩高级政策协调会”...</td>\n",
       "      <td>新华网</td>\n",
       "      <td>韩国媒体6月16日报道，美国已向韩方提出，要继续保留美韩两军联合司令部。而在布什政府时期，美...</td>\n",
       "      <td>新华国际</td>\n",
       "    </tr>\n",
       "    <tr>\n",
       "      <th>199</th>\n",
       "      <td>美防长：中美不是“零和关系” 不必成为对手</td>\n",
       "      <td>http://www.xinhuanet.com/world/2015-04/08/c_12...</td>\n",
       "      <td>Apr 8, 2015</td>\n",
       "      <td>同时，美国将构建三边安全合作，比如，与日本、澳大利亚就东南亚海上安全加强合作，推动美日韩情报...</td>\n",
       "      <td>新华网</td>\n",
       "      <td>美防长：中美不是“零和关系”\\n开启上任后首次亚洲之行前，美国国防部长阿什顿·卡特６日以美国...</td>\n",
       "      <td>2015年04月08日 07:07:50\\r\\n\\n来源：\\n\\r\\n新华网</td>\n",
       "    </tr>\n",
       "  </tbody>\n",
       "</table>\n",
       "<p>98 rows × 7 columns</p>\n",
       "</div>"
      ]
     },
     "execution_count": 48,
     "metadata": {},
     "output_type": "execute_result"
    }
   ],
   "execution_count": 48
  },
  {
   "metadata": {
    "ExecuteTime": {
     "end_time": "2025-02-06T12:25:37.816776Z",
     "start_time": "2025-02-06T12:25:37.806176Z"
    }
   },
   "cell_type": "code",
   "source": "pdf_filtered_df = df[df['link'].str.endswith('.pdf', na=False)]",
   "id": "4139594895170d2b",
   "outputs": [],
   "execution_count": 17
  },
  {
   "metadata": {
    "ExecuteTime": {
     "end_time": "2025-02-07T03:13:58.438760Z",
     "start_time": "2025-02-07T03:13:58.429757Z"
    }
   },
   "cell_type": "code",
   "outputs": [],
   "execution_count": 38,
   "source": [
    "# 본문 없는 데이터와 '三边', '三国', '三方' 중 하나라도 포함되지 않은 데이터 필터링\n",
    "df = df[df['content'].notnull() & df['content'].str.contains('三边|三国|三方|三角|同盟', na=False)]\n",
    "df = df[df['content'].str.contains('环球', na=False)]"
   ],
   "id": "82692fc128fffc16"
  },
  {
   "metadata": {
    "ExecuteTime": {
     "end_time": "2025-02-07T04:08:48.647958Z",
     "start_time": "2025-02-07T04:08:48.631329Z"
    }
   },
   "cell_type": "code",
   "source": "df = df[df['get_source'].notnull() & df['get_source'].str.contains('新华', na=False)]",
   "id": "6bfad9844e4cbf91",
   "outputs": [],
   "execution_count": 47
  },
  {
   "metadata": {
    "ExecuteTime": {
     "end_time": "2025-02-07T04:14:56.770248Z",
     "start_time": "2025-02-07T04:14:56.757607Z"
    }
   },
   "cell_type": "code",
   "source": "output_path = \"../output/filtered_xinhuanet_by_source.json\"",
   "id": "fdef3534a2f6444a",
   "outputs": [],
   "execution_count": 54
  },
  {
   "metadata": {
    "ExecuteTime": {
     "end_time": "2025-02-07T04:13:44.594238Z",
     "start_time": "2025-02-07T04:13:44.579929Z"
    }
   },
   "cell_type": "code",
   "source": "pdf_filtered_df.to_csv(output_path,index=False, encoding='utf-8-sig')",
   "id": "eae86daf988d844c",
   "outputs": [],
   "execution_count": 53
  },
  {
   "metadata": {
    "ExecuteTime": {
     "end_time": "2025-02-07T04:15:48.351853Z",
     "start_time": "2025-02-07T04:15:48.330374Z"
    }
   },
   "cell_type": "code",
   "source": "df.to_json(output_path, orient='records', force_ascii=False, indent=4)",
   "id": "158a556513a5c6ba",
   "outputs": [],
   "execution_count": 55
  },
  {
   "metadata": {
    "ExecuteTime": {
     "end_time": "2025-02-07T04:26:09.596771Z",
     "start_time": "2025-02-07T04:26:09.587795Z"
    }
   },
   "cell_type": "code",
   "source": [
    "contains_target_title = df['title'].str.contains(\"贸易摩擦升级日韩关系何去何从\", na=False).any()\n",
    "print(f\"제목에 키워드가 포함된 기사 존재 여부: {contains_target_title}\")"
   ],
   "id": "9dfd8e78573ac205",
   "outputs": [
    {
     "name": "stdout",
     "output_type": "stream",
     "text": [
      "제목에 키워드가 포함된 기사 존재 여부: True\n"
     ]
    }
   ],
   "execution_count": 11
  },
  {
   "metadata": {},
   "cell_type": "code",
   "outputs": [],
   "execution_count": null,
   "source": "",
   "id": "7c8be31eacb8f52"
  }
 ],
 "metadata": {
  "kernelspec": {
   "display_name": "Python 3",
   "language": "python",
   "name": "python3"
  },
  "language_info": {
   "codemirror_mode": {
    "name": "ipython",
    "version": 2
   },
   "file_extension": ".py",
   "mimetype": "text/x-python",
   "name": "python",
   "nbconvert_exporter": "python",
   "pygments_lexer": "ipython2",
   "version": "2.7.6"
  }
 },
 "nbformat": 4,
 "nbformat_minor": 5
}
